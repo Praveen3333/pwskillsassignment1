{
 "cells": [
  {
   "cell_type": "code",
   "execution_count": 1,
   "id": "0f05ba23-3aa9-4838-9c77-313f8d4a9820",
   "metadata": {},
   "outputs": [
    {
     "data": {
      "text/plain": [
       "str"
      ]
     },
     "execution_count": 1,
     "metadata": {},
     "output_type": "execute_result"
    }
   ],
   "source": [
    "a=\"praveen\"\n",
    "type(a)\n"
   ]
  },
  {
   "cell_type": "code",
   "execution_count": 2,
   "id": "343f7785-3460-49f5-a616-4814ec61a1d9",
   "metadata": {},
   "outputs": [
    {
     "data": {
      "text/plain": [
       "list"
      ]
     },
     "execution_count": 2,
     "metadata": {},
     "output_type": "execute_result"
    }
   ],
   "source": [
    "a=[1,2,3,'praveen ']\n",
    "type(a)"
   ]
  },
  {
   "cell_type": "code",
   "execution_count": 4,
   "id": "8422f5db-45be-4d52-97c5-64ed887b7de3",
   "metadata": {},
   "outputs": [
    {
     "data": {
      "text/plain": [
       "float"
      ]
     },
     "execution_count": 4,
     "metadata": {},
     "output_type": "execute_result"
    }
   ],
   "source": [
    "a=4.53\n",
    "type(a)"
   ]
  },
  {
   "cell_type": "code",
   "execution_count": 5,
   "id": "06db4d13-59a2-46a7-a445-08f7e455b33d",
   "metadata": {},
   "outputs": [
    {
     "data": {
      "text/plain": [
       "tuple"
      ]
     },
     "execution_count": 5,
     "metadata": {},
     "output_type": "execute_result"
    }
   ],
   "source": [
    "a=(1,2,3,[1,2,3,],'praveen')\n",
    "type(a)\n"
   ]
  },
  {
   "cell_type": "code",
   "execution_count": 7,
   "id": "b0093d41-247c-4e8d-b7f6-f313bde0f927",
   "metadata": {},
   "outputs": [
    {
     "ename": "SyntaxError",
     "evalue": "invalid character '‘' (U+2018) (3429497953.py, line 2)",
     "output_type": "error",
     "traceback": [
      "\u001b[0;36m  Cell \u001b[0;32mIn[7], line 2\u001b[0;36m\u001b[0m\n\u001b[0;31m    var1 = ‘ ‘\u001b[0m\n\u001b[0m           ^\u001b[0m\n\u001b[0;31mSyntaxError\u001b[0m\u001b[0;31m:\u001b[0m invalid character '‘' (U+2018)\n"
     ]
    }
   ],
   "source": [
    "#q2\n",
    "var1 = ‘ ‘\n",
    "type(var1)\n"
   ]
  },
  {
   "cell_type": "code",
   "execution_count": 8,
   "id": "de6c87b4-5282-48c8-b290-100b1b4e037f",
   "metadata": {},
   "outputs": [
    {
     "ename": "SyntaxError",
     "evalue": "invalid character '‘' (U+2018) (2771565403.py, line 1)",
     "output_type": "error",
     "traceback": [
      "\u001b[0;36m  Cell \u001b[0;32mIn[8], line 1\u001b[0;36m\u001b[0m\n\u001b[0;31m    var2 = ‘[ DS , ML , Python]’\u001b[0m\n\u001b[0m           ^\u001b[0m\n\u001b[0;31mSyntaxError\u001b[0m\u001b[0;31m:\u001b[0m invalid character '‘' (U+2018)\n"
     ]
    }
   ],
   "source": [
    "\n",
    "var2 = ‘[ DS , ML , Python]’\n",
    "type(var2)\n"
   ]
  },
  {
   "cell_type": "code",
   "execution_count": null,
   "id": "c51b7177-c08e-42f8-abaf-e0beb793e383",
   "metadata": {},
   "outputs": [],
   "source": []
  },
  {
   "cell_type": "code",
   "execution_count": 9,
   "id": "6d6a2bda-90ae-4018-8f96-a6df30743195",
   "metadata": {},
   "outputs": [
    {
     "ename": "SyntaxError",
     "evalue": "invalid character '‘' (U+2018) (140573027.py, line 1)",
     "output_type": "error",
     "traceback": [
      "\u001b[0;36m  Cell \u001b[0;32mIn[9], line 1\u001b[0;36m\u001b[0m\n\u001b[0;31m    var3 = [ ‘DS’ , ’ML’ , ‘Python’ ]\u001b[0m\n\u001b[0m             ^\u001b[0m\n\u001b[0;31mSyntaxError\u001b[0m\u001b[0;31m:\u001b[0m invalid character '‘' (U+2018)\n"
     ]
    }
   ],
   "source": [
    "\n",
    "var3 = [ ‘DS’ , ’ML’ , ‘Python’ ]\n",
    "typr(var3)\n"
   ]
  },
  {
   "cell_type": "code",
   "execution_count": null,
   "id": "e4cd6e0c-bf6c-4b01-9514-1166cb8722d9",
   "metadata": {},
   "outputs": [],
   "source": []
  },
  {
   "cell_type": "code",
   "execution_count": 10,
   "id": "6631fffb-4a5c-41b4-84fe-b12d7cadaecd",
   "metadata": {},
   "outputs": [
    {
     "data": {
      "text/plain": [
       "float"
      ]
     },
     "execution_count": 10,
     "metadata": {},
     "output_type": "execute_result"
    }
   ],
   "source": [
    "var4 = 1.\n",
    "type(var4)"
   ]
  },
  {
   "cell_type": "code",
   "execution_count": 14,
   "id": "9a5a1732-a6ab-4c1f-aad3-3044f548c736",
   "metadata": {},
   "outputs": [
    {
     "data": {
      "text/plain": [
       "3.4285714285714284"
      ]
     },
     "execution_count": 14,
     "metadata": {},
     "output_type": "execute_result"
    }
   ],
   "source": [
    "a=24\n",
    "b=7\n",
    "a/b #divided"
   ]
  },
  {
   "cell_type": "code",
   "execution_count": 15,
   "id": "a03d890f-8dd0-45ee-aa97-da5b89f58a28",
   "metadata": {},
   "outputs": [
    {
     "data": {
      "text/plain": [
       "3"
      ]
     },
     "execution_count": 15,
     "metadata": {},
     "output_type": "execute_result"
    }
   ],
   "source": [
    "a%b # gives the remainder operator"
   ]
  },
  {
   "cell_type": "code",
   "execution_count": 16,
   "id": "557f449a-d6a8-459b-ae3b-a64303785199",
   "metadata": {},
   "outputs": [
    {
     "data": {
      "text/plain": [
       "3"
      ]
     },
     "execution_count": 16,
     "metadata": {},
     "output_type": "execute_result"
    }
   ],
   "source": [
    "a//b #  interger floor division"
   ]
  },
  {
   "cell_type": "code",
   "execution_count": 17,
   "id": "75ec4cca-4e1a-44a6-b0af-a6c66a28b9c3",
   "metadata": {},
   "outputs": [
    {
     "data": {
      "text/plain": [
       "4586471424"
      ]
     },
     "execution_count": 17,
     "metadata": {},
     "output_type": "execute_result"
    }
   ],
   "source": [
    "a**b #power"
   ]
  },
  {
   "cell_type": "code",
   "execution_count": 20,
   "id": "1bd798f1-2e9f-4c5d-a791-ff39b8e6d962",
   "metadata": {},
   "outputs": [
    {
     "name": "stdout",
     "output_type": "stream",
     "text": [
      "42 <class 'int'>\n",
      "Hello <class 'int'>\n",
      "3.14 <class 'int'>\n",
      "14 <class 'int'>\n",
      "True <class 'int'>\n",
      "[1, 2, 3] <class 'int'>\n",
      "None <class 'int'>\n",
      "1 <class 'int'>\n",
      "4 <class 'int'>\n",
      "praveen <class 'int'>\n"
     ]
    }
   ],
   "source": [
    "#q4\n",
    "my_list = [42,'Hello', 3.14,14,True,[1,2,3],None,1,4,'praveen']\n",
    "for element in my_list:\n",
    "    print(element ,type(elements))"
   ]
  },
  {
   "cell_type": "code",
   "execution_count": 21,
   "id": "4515e828-eacd-4dee-932a-c20095d83b15",
   "metadata": {},
   "outputs": [
    {
     "name": "stdout",
     "output_type": "stream",
     "text": [
      "A is purely divisible by B, and it can be divided 2 times.\n"
     ]
    }
   ],
   "source": [
    "#5\n",
    "A = 48  \n",
    "B = 4   \n",
    "\n",
    "count = 0 \n",
    "\n",
    "while A % B == 0:\n",
    "    A = A // B  \n",
    "    count += 1  \n",
    "\n",
    "if count > 0:\n",
    "    print(f\"A is purely divisible by B, and it can be divided {count} times.\")\n",
    "else:\n",
    "    print(\"A is not purely divisible by B.\")\n",
    "\n"
   ]
  },
  {
   "cell_type": "code",
   "execution_count": 22,
   "id": "cde1c770-6584-4782-b0f6-9de413539204",
   "metadata": {},
   "outputs": [
    {
     "name": "stdout",
     "output_type": "stream",
     "text": [
      "2 is not divisible by 3.\n",
      "9 is divisible by 3.\n",
      "12 is divisible by 3.\n",
      "18 is divisible by 3.\n",
      "21 is divisible by 3.\n",
      "30 is divisible by 3.\n",
      "37 is not divisible by 3.\n",
      "42 is divisible by 3.\n",
      "45 is divisible by 3.\n",
      "50 is not divisible by 3.\n",
      "55 is not divisible by 3.\n",
      "63 is divisible by 3.\n",
      "66 is divisible by 3.\n",
      "70 is not divisible by 3.\n",
      "75 is divisible by 3.\n",
      "80 is not divisible by 3.\n",
      "88 is not divisible by 3.\n",
      "90 is divisible by 3.\n",
      "93 is divisible by 3.\n",
      "99 is divisible by 3.\n",
      "102 is divisible by 3.\n",
      "105 is divisible by 3.\n",
      "110 is not divisible by 3.\n",
      "120 is divisible by 3.\n",
      "125 is not divisible by 3.\n"
     ]
    }
   ],
   "source": [
    "#6\n",
    "my_list = [2, 9, 12, 18, 21, 30, 37, 42, 45, 50, 55, 63, 66, 70, 75, 80, 88, 90, 93, 99, 102, 105, 110, 120, 125]\n",
    "\n",
    "for element in my_list:\n",
    "    if element % 3 == 0:\n",
    "        print(f\"{element} is divisible by 3.\")\n",
    "    else:\n",
    "        print(f\"{element} is not divisible by 3.\")"
   ]
  },
  {
   "cell_type": "code",
   "execution_count": 24,
   "id": "823dbb7c-08d7-4ffc-b67c-49239ac75c76",
   "metadata": {},
   "outputs": [
    {
     "name": "stdout",
     "output_type": "stream",
     "text": [
      "6\n"
     ]
    }
   ],
   "source": [
    "#7\n",
    "#int: Integer values are immutable. For example:\n",
    "x = 5\n",
    "x += 1\n",
    "print(x)  "
   ]
  },
  {
   "cell_type": "code",
   "execution_count": 25,
   "id": "2aa79870-35d2-4f1a-85b1-4e939bc58b5a",
   "metadata": {},
   "outputs": [
    {
     "name": "stdout",
     "output_type": "stream",
     "text": [
      "6.28\n"
     ]
    }
   ],
   "source": [
    "#float: Floating-point numbers are also immutable. For example:\n",
    "y = 3.14\n",
    "y = y * 2\n",
    "print(y) "
   ]
  },
  {
   "cell_type": "code",
   "execution_count": 26,
   "id": "7d7e22b1-92c7-4c7b-b022-ca98fa91ed70",
   "metadata": {},
   "outputs": [
    {
     "name": "stdout",
     "output_type": "stream",
     "text": [
      "Hello World\n"
     ]
    }
   ],
   "source": [
    "#'str': Strings are immutable in Python. For example:\n",
    "message = \"Hello\"\n",
    "message += \" World\"\n",
    "print(message)"
   ]
  },
  {
   "cell_type": "code",
   "execution_count": 27,
   "id": "f1884571-c27c-42df-8ebf-c17da63f0532",
   "metadata": {},
   "outputs": [
    {
     "name": "stdout",
     "output_type": "stream",
     "text": [
      "[1, 2, 3, 4]\n"
     ]
    }
   ],
   "source": [
    "#list: Lists are mutable. For example:\n",
    "numbers = [1, 2, 3]\n",
    "numbers.append(4)\n",
    "print(numbers) "
   ]
  },
  {
   "cell_type": "code",
   "execution_count": null,
   "id": "c3b47c22-e6d6-4a48-b657-1f5e162439be",
   "metadata": {},
   "outputs": [],
   "source": []
  }
 ],
 "metadata": {
  "kernelspec": {
   "display_name": "Python 3 (ipykernel)",
   "language": "python",
   "name": "python3"
  },
  "language_info": {
   "codemirror_mode": {
    "name": "ipython",
    "version": 3
   },
   "file_extension": ".py",
   "mimetype": "text/x-python",
   "name": "python",
   "nbconvert_exporter": "python",
   "pygments_lexer": "ipython3",
   "version": "3.10.8"
  }
 },
 "nbformat": 4,
 "nbformat_minor": 5
}
